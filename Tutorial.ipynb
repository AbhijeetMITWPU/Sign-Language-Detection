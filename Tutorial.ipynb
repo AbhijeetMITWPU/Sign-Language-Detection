{
 "cells": [
  {
   "cell_type": "markdown",
   "metadata": {},
   "source": [
    "Resources Used\n",
    "- wget.download('https://tensorflow-object-detection-api-tutorial.readthedocs.io/en/latest/_downloads/da4babe668a8afb093cc7776d7e630f3/generate_tfrecord.py')\n",
    "- Setup https://tensorflow-object-detection-api-tutorial.readthedocs.io/en/latest/install.html"
   ]
  },
  {
   "cell_type": "markdown",
   "metadata": {},
   "source": [
    "# 0. Setup Paths"
   ]
  },
  {
   "cell_type": "code",
   "execution_count": 11,
   "metadata": {},
   "outputs": [],
   "source": [
    "WORKSPACE_PATH = 'Tensorflow/workspace'\n",
    "SCRIPTS_PATH = 'Tensorflow/scripts'\n",
    "APIMODEL_PATH = 'Tensorflow/models'\n",
    "ANNOTATION_PATH = WORKSPACE_PATH+'/annotations'\n",
    "IMAGE_PATH = WORKSPACE_PATH+'/images'\n",
    "MODEL_PATH = WORKSPACE_PATH+'/models'\n",
    "PRETRAINED_MODEL_PATH = WORKSPACE_PATH+'/pre-trained-models'\n",
    "CONFIG_PATH = MODEL_PATH+'/my_ssd_mobnet/pipeline.config'\n",
    "CHECKPOINT_PATH = MODEL_PATH+'/my_ssd_mobnet/'"
   ]
  },
  {
   "cell_type": "markdown",
   "metadata": {},
   "source": [
    "# 1. Create Label Map"
   ]
  },
  {
   "cell_type": "code",
   "execution_count": 12,
   "metadata": {},
   "outputs": [],
   "source": [
    "labels = [{'name':'Hello', 'id':1}, \n",
    "          {'name':'Yes', 'id':2},\n",
    "          {'name':'No', 'id':3},\n",
    "          {'name':'Thank You', 'id':4},\n",
    "          {'name':'I Love You', 'id':5},\n",
    "          {'name':'Abhijeet', 'id':6}]\n",
    "\n",
    "with open(ANNOTATION_PATH + '\\label_map.pbtxt', 'w') as f:\n",
    "    for label in labels:\n",
    "        f.write('item { \\n')\n",
    "        f.write('\\tname:\\'{}\\'\\n'.format(label['name']))\n",
    "        f.write('\\tid:{}\\n'.format(label['id']))\n",
    "        f.write('}\\n')"
   ]
  },
  {
   "cell_type": "code",
   "execution_count": 5,
   "metadata": {},
   "outputs": [
    {
     "name": "stdout",
     "output_type": "stream",
     "text": [
      "Requirement already satisfied: tensorflow-object-detection-api in c:\\users\\hp\\anaconda3\\envs\\tfod\\lib\\site-packages (0.1.1)\n",
      "Requirement already satisfied: Pillow>=1.0 in c:\\users\\hp\\anaconda3\\envs\\tfod\\lib\\site-packages (from tensorflow-object-detection-api) (10.2.0)\n",
      "Requirement already satisfied: Matplotlib>=2.1 in c:\\users\\hp\\anaconda3\\envs\\tfod\\lib\\site-packages (from tensorflow-object-detection-api) (3.8.3)\n",
      "Requirement already satisfied: Cython>=0.28.1 in c:\\users\\hp\\anaconda3\\envs\\tfod\\lib\\site-packages (from tensorflow-object-detection-api) (3.0.9)\n",
      "Requirement already satisfied: Protobuf in c:\\users\\hp\\anaconda3\\envs\\tfod\\lib\\site-packages (from tensorflow-object-detection-api) (3.19.6)\n",
      "Requirement already satisfied: lxml in c:\\users\\hp\\anaconda3\\envs\\tfod\\lib\\site-packages (from tensorflow-object-detection-api) (5.1.0)\n",
      "Requirement already satisfied: jupyter in c:\\users\\hp\\anaconda3\\envs\\tfod\\lib\\site-packages (from tensorflow-object-detection-api) (1.0.0)\n",
      "Requirement already satisfied: tensorflow in c:\\users\\hp\\anaconda3\\envs\\tfod\\lib\\site-packages (from tensorflow-object-detection-api) (2.10.0)\n",
      "Requirement already satisfied: contextlib2 in c:\\users\\hp\\anaconda3\\envs\\tfod\\lib\\site-packages (from tensorflow-object-detection-api) (21.6.0)\n",
      "Requirement already satisfied: wheel in c:\\users\\hp\\anaconda3\\envs\\tfod\\lib\\site-packages (from tensorflow-object-detection-api) (0.41.2)\n",
      "Requirement already satisfied: twine in c:\\users\\hp\\anaconda3\\envs\\tfod\\lib\\site-packages (from tensorflow-object-detection-api) (5.0.0)\n",
      "Requirement already satisfied: contourpy>=1.0.1 in c:\\users\\hp\\anaconda3\\envs\\tfod\\lib\\site-packages (from Matplotlib>=2.1->tensorflow-object-detection-api) (1.2.0)\n",
      "Requirement already satisfied: cycler>=0.10 in c:\\users\\hp\\anaconda3\\envs\\tfod\\lib\\site-packages (from Matplotlib>=2.1->tensorflow-object-detection-api) (0.12.1)\n",
      "Requirement already satisfied: fonttools>=4.22.0 in c:\\users\\hp\\anaconda3\\envs\\tfod\\lib\\site-packages (from Matplotlib>=2.1->tensorflow-object-detection-api) (4.50.0)\n",
      "Requirement already satisfied: kiwisolver>=1.3.1 in c:\\users\\hp\\anaconda3\\envs\\tfod\\lib\\site-packages (from Matplotlib>=2.1->tensorflow-object-detection-api) (1.4.5)\n",
      "Requirement already satisfied: numpy<2,>=1.21 in c:\\users\\hp\\anaconda3\\envs\\tfod\\lib\\site-packages (from Matplotlib>=2.1->tensorflow-object-detection-api) (1.26.4)\n",
      "Requirement already satisfied: packaging>=20.0 in c:\\users\\hp\\anaconda3\\envs\\tfod\\lib\\site-packages (from Matplotlib>=2.1->tensorflow-object-detection-api) (24.0)\n",
      "Requirement already satisfied: pyparsing>=2.3.1 in c:\\users\\hp\\anaconda3\\envs\\tfod\\lib\\site-packages (from Matplotlib>=2.1->tensorflow-object-detection-api) (3.1.2)\n",
      "Requirement already satisfied: python-dateutil>=2.7 in c:\\users\\hp\\anaconda3\\envs\\tfod\\lib\\site-packages (from Matplotlib>=2.1->tensorflow-object-detection-api) (2.9.0)\n",
      "Requirement already satisfied: importlib-resources>=3.2.0 in c:\\users\\hp\\anaconda3\\envs\\tfod\\lib\\site-packages (from Matplotlib>=2.1->tensorflow-object-detection-api) (6.3.2)\n",
      "Requirement already satisfied: notebook in c:\\users\\hp\\anaconda3\\envs\\tfod\\lib\\site-packages (from jupyter->tensorflow-object-detection-api) (7.1.2)\n",
      "Requirement already satisfied: qtconsole in c:\\users\\hp\\anaconda3\\envs\\tfod\\lib\\site-packages (from jupyter->tensorflow-object-detection-api) (5.5.1)\n",
      "Requirement already satisfied: jupyter-console in c:\\users\\hp\\anaconda3\\envs\\tfod\\lib\\site-packages (from jupyter->tensorflow-object-detection-api) (6.6.3)\n",
      "Requirement already satisfied: nbconvert in c:\\users\\hp\\anaconda3\\envs\\tfod\\lib\\site-packages (from jupyter->tensorflow-object-detection-api) (7.16.2)\n",
      "Requirement already satisfied: ipykernel in c:\\users\\hp\\anaconda3\\envs\\tfod\\lib\\site-packages (from jupyter->tensorflow-object-detection-api) (6.29.3)\n",
      "Requirement already satisfied: ipywidgets in c:\\users\\hp\\anaconda3\\envs\\tfod\\lib\\site-packages (from jupyter->tensorflow-object-detection-api) (8.1.2)\n",
      "Requirement already satisfied: absl-py>=1.0.0 in c:\\users\\hp\\anaconda3\\envs\\tfod\\lib\\site-packages (from tensorflow->tensorflow-object-detection-api) (2.1.0)\n",
      "Requirement already satisfied: astunparse>=1.6.0 in c:\\users\\hp\\anaconda3\\envs\\tfod\\lib\\site-packages (from tensorflow->tensorflow-object-detection-api) (1.6.3)\n",
      "Requirement already satisfied: flatbuffers>=2.0 in c:\\users\\hp\\anaconda3\\envs\\tfod\\lib\\site-packages (from tensorflow->tensorflow-object-detection-api) (24.3.7)\n",
      "Requirement already satisfied: gast<=0.4.0,>=0.2.1 in c:\\users\\hp\\anaconda3\\envs\\tfod\\lib\\site-packages (from tensorflow->tensorflow-object-detection-api) (0.4.0)\n",
      "Requirement already satisfied: google-pasta>=0.1.1 in c:\\users\\hp\\anaconda3\\envs\\tfod\\lib\\site-packages (from tensorflow->tensorflow-object-detection-api) (0.2.0)\n",
      "Requirement already satisfied: h5py>=2.9.0 in c:\\users\\hp\\anaconda3\\envs\\tfod\\lib\\site-packages (from tensorflow->tensorflow-object-detection-api) (3.10.0)\n",
      "Requirement already satisfied: keras-preprocessing>=1.1.1 in c:\\users\\hp\\anaconda3\\envs\\tfod\\lib\\site-packages (from tensorflow->tensorflow-object-detection-api) (1.1.2)\n",
      "Requirement already satisfied: libclang>=13.0.0 in c:\\users\\hp\\anaconda3\\envs\\tfod\\lib\\site-packages (from tensorflow->tensorflow-object-detection-api) (18.1.1)\n",
      "Requirement already satisfied: opt-einsum>=2.3.2 in c:\\users\\hp\\anaconda3\\envs\\tfod\\lib\\site-packages (from tensorflow->tensorflow-object-detection-api) (3.3.0)\n",
      "Requirement already satisfied: setuptools in c:\\users\\hp\\anaconda3\\envs\\tfod\\lib\\site-packages (from tensorflow->tensorflow-object-detection-api) (68.2.2)\n",
      "Requirement already satisfied: six>=1.12.0 in c:\\users\\hp\\anaconda3\\envs\\tfod\\lib\\site-packages (from tensorflow->tensorflow-object-detection-api) (1.16.0)\n",
      "Requirement already satisfied: termcolor>=1.1.0 in c:\\users\\hp\\anaconda3\\envs\\tfod\\lib\\site-packages (from tensorflow->tensorflow-object-detection-api) (2.4.0)\n",
      "Requirement already satisfied: typing-extensions>=3.6.6 in c:\\users\\hp\\anaconda3\\envs\\tfod\\lib\\site-packages (from tensorflow->tensorflow-object-detection-api) (4.10.0)\n",
      "Requirement already satisfied: wrapt>=1.11.0 in c:\\users\\hp\\anaconda3\\envs\\tfod\\lib\\site-packages (from tensorflow->tensorflow-object-detection-api) (1.16.0)\n",
      "Requirement already satisfied: tensorflow-io-gcs-filesystem>=0.23.1 in c:\\users\\hp\\anaconda3\\envs\\tfod\\lib\\site-packages (from tensorflow->tensorflow-object-detection-api) (0.31.0)\n",
      "Requirement already satisfied: grpcio<2.0,>=1.24.3 in c:\\users\\hp\\anaconda3\\envs\\tfod\\lib\\site-packages (from tensorflow->tensorflow-object-detection-api) (1.62.1)\n",
      "Requirement already satisfied: tensorboard<2.11,>=2.10 in c:\\users\\hp\\anaconda3\\envs\\tfod\\lib\\site-packages (from tensorflow->tensorflow-object-detection-api) (2.10.1)\n",
      "Requirement already satisfied: tensorflow-estimator<2.11,>=2.10.0 in c:\\users\\hp\\anaconda3\\envs\\tfod\\lib\\site-packages (from tensorflow->tensorflow-object-detection-api) (2.10.0)\n",
      "Requirement already satisfied: keras<2.11,>=2.10.0 in c:\\users\\hp\\anaconda3\\envs\\tfod\\lib\\site-packages (from tensorflow->tensorflow-object-detection-api) (2.10.0)\n",
      "Requirement already satisfied: pkginfo>=1.8.1 in c:\\users\\hp\\anaconda3\\envs\\tfod\\lib\\site-packages (from twine->tensorflow-object-detection-api) (1.10.0)\n",
      "Requirement already satisfied: readme-renderer>=35.0 in c:\\users\\hp\\anaconda3\\envs\\tfod\\lib\\site-packages (from twine->tensorflow-object-detection-api) (43.0)\n",
      "Requirement already satisfied: requests>=2.20 in c:\\users\\hp\\anaconda3\\envs\\tfod\\lib\\site-packages (from twine->tensorflow-object-detection-api) (2.31.0)\n",
      "Requirement already satisfied: requests-toolbelt!=0.9.0,>=0.8.0 in c:\\users\\hp\\anaconda3\\envs\\tfod\\lib\\site-packages (from twine->tensorflow-object-detection-api) (1.0.0)\n",
      "Requirement already satisfied: urllib3>=1.26.0 in c:\\users\\hp\\anaconda3\\envs\\tfod\\lib\\site-packages (from twine->tensorflow-object-detection-api) (2.2.1)\n",
      "Requirement already satisfied: importlib-metadata>=3.6 in c:\\users\\hp\\anaconda3\\envs\\tfod\\lib\\site-packages (from twine->tensorflow-object-detection-api) (7.0.2)\n",
      "Requirement already satisfied: keyring>=15.1 in c:\\users\\hp\\anaconda3\\envs\\tfod\\lib\\site-packages (from twine->tensorflow-object-detection-api) (24.3.1)\n",
      "Requirement already satisfied: rfc3986>=1.4.0 in c:\\users\\hp\\anaconda3\\envs\\tfod\\lib\\site-packages (from twine->tensorflow-object-detection-api) (2.0.0)\n",
      "Requirement already satisfied: rich>=12.0.0 in c:\\users\\hp\\anaconda3\\envs\\tfod\\lib\\site-packages (from twine->tensorflow-object-detection-api) (13.7.1)\n",
      "Requirement already satisfied: zipp>=0.5 in c:\\users\\hp\\anaconda3\\envs\\tfod\\lib\\site-packages (from importlib-metadata>=3.6->twine->tensorflow-object-detection-api) (3.17.0)\n",
      "Requirement already satisfied: jaraco.classes in c:\\users\\hp\\anaconda3\\envs\\tfod\\lib\\site-packages (from keyring>=15.1->twine->tensorflow-object-detection-api) (3.3.1)\n",
      "Requirement already satisfied: pywin32-ctypes>=0.2.0 in c:\\users\\hp\\anaconda3\\envs\\tfod\\lib\\site-packages (from keyring>=15.1->twine->tensorflow-object-detection-api) (0.2.2)\n",
      "Requirement already satisfied: nh3>=0.2.14 in c:\\users\\hp\\anaconda3\\envs\\tfod\\lib\\site-packages (from readme-renderer>=35.0->twine->tensorflow-object-detection-api) (0.2.15)\n",
      "Requirement already satisfied: docutils>=0.13.1 in c:\\users\\hp\\anaconda3\\envs\\tfod\\lib\\site-packages (from readme-renderer>=35.0->twine->tensorflow-object-detection-api) (0.20.1)\n",
      "Requirement already satisfied: Pygments>=2.5.1 in c:\\users\\hp\\anaconda3\\envs\\tfod\\lib\\site-packages (from readme-renderer>=35.0->twine->tensorflow-object-detection-api) (2.17.2)\n",
      "Requirement already satisfied: charset-normalizer<4,>=2 in c:\\users\\hp\\anaconda3\\envs\\tfod\\lib\\site-packages (from requests>=2.20->twine->tensorflow-object-detection-api) (3.3.2)\n",
      "Requirement already satisfied: idna<4,>=2.5 in c:\\users\\hp\\anaconda3\\envs\\tfod\\lib\\site-packages (from requests>=2.20->twine->tensorflow-object-detection-api) (3.6)\n",
      "Requirement already satisfied: certifi>=2017.4.17 in c:\\users\\hp\\anaconda3\\envs\\tfod\\lib\\site-packages (from requests>=2.20->twine->tensorflow-object-detection-api) (2024.2.2)\n",
      "Requirement already satisfied: markdown-it-py>=2.2.0 in c:\\users\\hp\\anaconda3\\envs\\tfod\\lib\\site-packages (from rich>=12.0.0->twine->tensorflow-object-detection-api) (3.0.0)\n",
      "Requirement already satisfied: google-auth<3,>=1.6.3 in c:\\users\\hp\\anaconda3\\envs\\tfod\\lib\\site-packages (from tensorboard<2.11,>=2.10->tensorflow->tensorflow-object-detection-api) (2.28.2)\n",
      "Requirement already satisfied: google-auth-oauthlib<0.5,>=0.4.1 in c:\\users\\hp\\anaconda3\\envs\\tfod\\lib\\site-packages (from tensorboard<2.11,>=2.10->tensorflow->tensorflow-object-detection-api) (0.4.6)\n",
      "Requirement already satisfied: markdown>=2.6.8 in c:\\users\\hp\\anaconda3\\envs\\tfod\\lib\\site-packages (from tensorboard<2.11,>=2.10->tensorflow->tensorflow-object-detection-api) (3.6)\n",
      "Requirement already satisfied: tensorboard-data-server<0.7.0,>=0.6.0 in c:\\users\\hp\\anaconda3\\envs\\tfod\\lib\\site-packages (from tensorboard<2.11,>=2.10->tensorflow->tensorflow-object-detection-api) (0.6.1)\n",
      "Requirement already satisfied: tensorboard-plugin-wit>=1.6.0 in c:\\users\\hp\\anaconda3\\envs\\tfod\\lib\\site-packages (from tensorboard<2.11,>=2.10->tensorflow->tensorflow-object-detection-api) (1.8.1)\n",
      "Requirement already satisfied: werkzeug>=1.0.1 in c:\\users\\hp\\anaconda3\\envs\\tfod\\lib\\site-packages (from tensorboard<2.11,>=2.10->tensorflow->tensorflow-object-detection-api) (3.0.1)\n",
      "Requirement already satisfied: comm>=0.1.1 in c:\\users\\hp\\anaconda3\\envs\\tfod\\lib\\site-packages (from ipykernel->jupyter->tensorflow-object-detection-api) (0.2.2)\n",
      "Requirement already satisfied: debugpy>=1.6.5 in c:\\users\\hp\\anaconda3\\envs\\tfod\\lib\\site-packages (from ipykernel->jupyter->tensorflow-object-detection-api) (1.8.1)\n",
      "Requirement already satisfied: ipython>=7.23.1 in c:\\users\\hp\\anaconda3\\envs\\tfod\\lib\\site-packages (from ipykernel->jupyter->tensorflow-object-detection-api) (8.18.1)\n",
      "Requirement already satisfied: jupyter-client>=6.1.12 in c:\\users\\hp\\anaconda3\\envs\\tfod\\lib\\site-packages (from ipykernel->jupyter->tensorflow-object-detection-api) (8.6.1)\n",
      "Requirement already satisfied: jupyter-core!=5.0.*,>=4.12 in c:\\users\\hp\\anaconda3\\envs\\tfod\\lib\\site-packages (from ipykernel->jupyter->tensorflow-object-detection-api) (5.7.2)\n",
      "Requirement already satisfied: matplotlib-inline>=0.1 in c:\\users\\hp\\anaconda3\\envs\\tfod\\lib\\site-packages (from ipykernel->jupyter->tensorflow-object-detection-api) (0.1.6)\n",
      "Requirement already satisfied: nest-asyncio in c:\\users\\hp\\anaconda3\\envs\\tfod\\lib\\site-packages (from ipykernel->jupyter->tensorflow-object-detection-api) (1.6.0)\n",
      "Requirement already satisfied: psutil in c:\\users\\hp\\anaconda3\\envs\\tfod\\lib\\site-packages (from ipykernel->jupyter->tensorflow-object-detection-api) (5.9.8)\n",
      "Requirement already satisfied: pyzmq>=24 in c:\\users\\hp\\anaconda3\\envs\\tfod\\lib\\site-packages (from ipykernel->jupyter->tensorflow-object-detection-api) (25.1.2)\n",
      "Requirement already satisfied: tornado>=6.1 in c:\\users\\hp\\anaconda3\\envs\\tfod\\lib\\site-packages (from ipykernel->jupyter->tensorflow-object-detection-api) (6.4)\n",
      "Requirement already satisfied: traitlets>=5.4.0 in c:\\users\\hp\\anaconda3\\envs\\tfod\\lib\\site-packages (from ipykernel->jupyter->tensorflow-object-detection-api) (5.14.2)\n",
      "Requirement already satisfied: widgetsnbextension~=4.0.10 in c:\\users\\hp\\anaconda3\\envs\\tfod\\lib\\site-packages (from ipywidgets->jupyter->tensorflow-object-detection-api) (4.0.10)\n",
      "Requirement already satisfied: jupyterlab-widgets~=3.0.10 in c:\\users\\hp\\anaconda3\\envs\\tfod\\lib\\site-packages (from ipywidgets->jupyter->tensorflow-object-detection-api) (3.0.10)\n",
      "Requirement already satisfied: prompt-toolkit>=3.0.30 in c:\\users\\hp\\anaconda3\\envs\\tfod\\lib\\site-packages (from jupyter-console->jupyter->tensorflow-object-detection-api) (3.0.42)\n",
      "Requirement already satisfied: beautifulsoup4 in c:\\users\\hp\\anaconda3\\envs\\tfod\\lib\\site-packages (from nbconvert->jupyter->tensorflow-object-detection-api) (4.12.3)\n",
      "Requirement already satisfied: bleach!=5.0.0 in c:\\users\\hp\\anaconda3\\envs\\tfod\\lib\\site-packages (from nbconvert->jupyter->tensorflow-object-detection-api) (6.1.0)\n",
      "Requirement already satisfied: defusedxml in c:\\users\\hp\\anaconda3\\envs\\tfod\\lib\\site-packages (from nbconvert->jupyter->tensorflow-object-detection-api) (0.7.1)\n",
      "Requirement already satisfied: jinja2>=3.0 in c:\\users\\hp\\anaconda3\\envs\\tfod\\lib\\site-packages (from nbconvert->jupyter->tensorflow-object-detection-api) (3.1.3)\n",
      "Requirement already satisfied: jupyterlab-pygments in c:\\users\\hp\\anaconda3\\envs\\tfod\\lib\\site-packages (from nbconvert->jupyter->tensorflow-object-detection-api) (0.3.0)\n",
      "Requirement already satisfied: markupsafe>=2.0 in c:\\users\\hp\\anaconda3\\envs\\tfod\\lib\\site-packages (from nbconvert->jupyter->tensorflow-object-detection-api) (2.1.5)\n",
      "Requirement already satisfied: mistune<4,>=2.0.3 in c:\\users\\hp\\anaconda3\\envs\\tfod\\lib\\site-packages (from nbconvert->jupyter->tensorflow-object-detection-api) (3.0.2)\n",
      "Requirement already satisfied: nbclient>=0.5.0 in c:\\users\\hp\\anaconda3\\envs\\tfod\\lib\\site-packages (from nbconvert->jupyter->tensorflow-object-detection-api) (0.10.0)\n",
      "Requirement already satisfied: nbformat>=5.7 in c:\\users\\hp\\anaconda3\\envs\\tfod\\lib\\site-packages (from nbconvert->jupyter->tensorflow-object-detection-api) (5.10.3)\n",
      "Requirement already satisfied: pandocfilters>=1.4.1 in c:\\users\\hp\\anaconda3\\envs\\tfod\\lib\\site-packages (from nbconvert->jupyter->tensorflow-object-detection-api) (1.5.1)\n",
      "Requirement already satisfied: tinycss2 in c:\\users\\hp\\anaconda3\\envs\\tfod\\lib\\site-packages (from nbconvert->jupyter->tensorflow-object-detection-api) (1.2.1)\n",
      "Requirement already satisfied: jupyter-server<3,>=2.4.0 in c:\\users\\hp\\anaconda3\\envs\\tfod\\lib\\site-packages (from notebook->jupyter->tensorflow-object-detection-api) (2.13.0)\n",
      "Requirement already satisfied: jupyterlab-server<3,>=2.22.1 in c:\\users\\hp\\anaconda3\\envs\\tfod\\lib\\site-packages (from notebook->jupyter->tensorflow-object-detection-api) (2.25.4)\n",
      "Requirement already satisfied: jupyterlab<4.2,>=4.1.1 in c:\\users\\hp\\anaconda3\\envs\\tfod\\lib\\site-packages (from notebook->jupyter->tensorflow-object-detection-api) (4.1.5)\n",
      "Requirement already satisfied: notebook-shim<0.3,>=0.2 in c:\\users\\hp\\anaconda3\\envs\\tfod\\lib\\site-packages (from notebook->jupyter->tensorflow-object-detection-api) (0.2.4)\n",
      "Requirement already satisfied: qtpy>=2.4.0 in c:\\users\\hp\\anaconda3\\envs\\tfod\\lib\\site-packages (from qtconsole->jupyter->tensorflow-object-detection-api) (2.4.1)\n",
      "Requirement already satisfied: webencodings in c:\\users\\hp\\anaconda3\\envs\\tfod\\lib\\site-packages (from bleach!=5.0.0->nbconvert->jupyter->tensorflow-object-detection-api) (0.5.1)\n",
      "Requirement already satisfied: cachetools<6.0,>=2.0.0 in c:\\users\\hp\\anaconda3\\envs\\tfod\\lib\\site-packages (from google-auth<3,>=1.6.3->tensorboard<2.11,>=2.10->tensorflow->tensorflow-object-detection-api) (5.3.3)\n",
      "Requirement already satisfied: pyasn1-modules>=0.2.1 in c:\\users\\hp\\anaconda3\\envs\\tfod\\lib\\site-packages (from google-auth<3,>=1.6.3->tensorboard<2.11,>=2.10->tensorflow->tensorflow-object-detection-api) (0.3.0)\n",
      "Requirement already satisfied: rsa<5,>=3.1.4 in c:\\users\\hp\\anaconda3\\envs\\tfod\\lib\\site-packages (from google-auth<3,>=1.6.3->tensorboard<2.11,>=2.10->tensorflow->tensorflow-object-detection-api) (4.9)\n",
      "Requirement already satisfied: requests-oauthlib>=0.7.0 in c:\\users\\hp\\anaconda3\\envs\\tfod\\lib\\site-packages (from google-auth-oauthlib<0.5,>=0.4.1->tensorboard<2.11,>=2.10->tensorflow->tensorflow-object-detection-api) (1.4.0)\n",
      "Requirement already satisfied: decorator in c:\\users\\hp\\anaconda3\\envs\\tfod\\lib\\site-packages (from ipython>=7.23.1->ipykernel->jupyter->tensorflow-object-detection-api) (5.1.1)\n",
      "Requirement already satisfied: jedi>=0.16 in c:\\users\\hp\\anaconda3\\envs\\tfod\\lib\\site-packages (from ipython>=7.23.1->ipykernel->jupyter->tensorflow-object-detection-api) (0.19.1)\n",
      "Requirement already satisfied: stack-data in c:\\users\\hp\\anaconda3\\envs\\tfod\\lib\\site-packages (from ipython>=7.23.1->ipykernel->jupyter->tensorflow-object-detection-api) (0.6.2)\n",
      "Requirement already satisfied: exceptiongroup in c:\\users\\hp\\anaconda3\\envs\\tfod\\lib\\site-packages (from ipython>=7.23.1->ipykernel->jupyter->tensorflow-object-detection-api) (1.2.0)\n",
      "Requirement already satisfied: colorama in c:\\users\\hp\\anaconda3\\envs\\tfod\\lib\\site-packages (from ipython>=7.23.1->ipykernel->jupyter->tensorflow-object-detection-api) (0.4.6)\n",
      "Requirement already satisfied: platformdirs>=2.5 in c:\\users\\hp\\anaconda3\\envs\\tfod\\lib\\site-packages (from jupyter-core!=5.0.*,>=4.12->ipykernel->jupyter->tensorflow-object-detection-api) (4.2.0)\n",
      "Requirement already satisfied: pywin32>=300 in c:\\users\\hp\\anaconda3\\envs\\tfod\\lib\\site-packages (from jupyter-core!=5.0.*,>=4.12->ipykernel->jupyter->tensorflow-object-detection-api) (306)\n",
      "Requirement already satisfied: anyio>=3.1.0 in c:\\users\\hp\\anaconda3\\envs\\tfod\\lib\\site-packages (from jupyter-server<3,>=2.4.0->notebook->jupyter->tensorflow-object-detection-api) (4.3.0)\n",
      "Requirement already satisfied: argon2-cffi in c:\\users\\hp\\anaconda3\\envs\\tfod\\lib\\site-packages (from jupyter-server<3,>=2.4.0->notebook->jupyter->tensorflow-object-detection-api) (23.1.0)\n",
      "Requirement already satisfied: jupyter-events>=0.9.0 in c:\\users\\hp\\anaconda3\\envs\\tfod\\lib\\site-packages (from jupyter-server<3,>=2.4.0->notebook->jupyter->tensorflow-object-detection-api) (0.10.0)\n",
      "Requirement already satisfied: jupyter-server-terminals in c:\\users\\hp\\anaconda3\\envs\\tfod\\lib\\site-packages (from jupyter-server<3,>=2.4.0->notebook->jupyter->tensorflow-object-detection-api) (0.5.3)\n",
      "Requirement already satisfied: overrides in c:\\users\\hp\\anaconda3\\envs\\tfod\\lib\\site-packages (from jupyter-server<3,>=2.4.0->notebook->jupyter->tensorflow-object-detection-api) (7.7.0)\n",
      "Requirement already satisfied: prometheus-client in c:\\users\\hp\\anaconda3\\envs\\tfod\\lib\\site-packages (from jupyter-server<3,>=2.4.0->notebook->jupyter->tensorflow-object-detection-api) (0.20.0)\n",
      "Requirement already satisfied: pywinpty in c:\\users\\hp\\anaconda3\\envs\\tfod\\lib\\site-packages (from jupyter-server<3,>=2.4.0->notebook->jupyter->tensorflow-object-detection-api) (2.0.13)\n",
      "Requirement already satisfied: send2trash>=1.8.2 in c:\\users\\hp\\anaconda3\\envs\\tfod\\lib\\site-packages (from jupyter-server<3,>=2.4.0->notebook->jupyter->tensorflow-object-detection-api) (1.8.2)\n",
      "Requirement already satisfied: terminado>=0.8.3 in c:\\users\\hp\\anaconda3\\envs\\tfod\\lib\\site-packages (from jupyter-server<3,>=2.4.0->notebook->jupyter->tensorflow-object-detection-api) (0.18.1)\n",
      "Requirement already satisfied: websocket-client in c:\\users\\hp\\anaconda3\\envs\\tfod\\lib\\site-packages (from jupyter-server<3,>=2.4.0->notebook->jupyter->tensorflow-object-detection-api) (1.7.0)\n",
      "Requirement already satisfied: async-lru>=1.0.0 in c:\\users\\hp\\anaconda3\\envs\\tfod\\lib\\site-packages (from jupyterlab<4.2,>=4.1.1->notebook->jupyter->tensorflow-object-detection-api) (2.0.4)\n",
      "Requirement already satisfied: httpx>=0.25.0 in c:\\users\\hp\\anaconda3\\envs\\tfod\\lib\\site-packages (from jupyterlab<4.2,>=4.1.1->notebook->jupyter->tensorflow-object-detection-api) (0.27.0)\n",
      "Requirement already satisfied: jupyter-lsp>=2.0.0 in c:\\users\\hp\\anaconda3\\envs\\tfod\\lib\\site-packages (from jupyterlab<4.2,>=4.1.1->notebook->jupyter->tensorflow-object-detection-api) (2.2.4)\n",
      "Requirement already satisfied: tomli in c:\\users\\hp\\anaconda3\\envs\\tfod\\lib\\site-packages (from jupyterlab<4.2,>=4.1.1->notebook->jupyter->tensorflow-object-detection-api) (2.0.1)\n",
      "Requirement already satisfied: babel>=2.10 in c:\\users\\hp\\anaconda3\\envs\\tfod\\lib\\site-packages (from jupyterlab-server<3,>=2.22.1->notebook->jupyter->tensorflow-object-detection-api) (2.14.0)\n",
      "Requirement already satisfied: json5>=0.9.0 in c:\\users\\hp\\anaconda3\\envs\\tfod\\lib\\site-packages (from jupyterlab-server<3,>=2.22.1->notebook->jupyter->tensorflow-object-detection-api) (0.9.24)\n",
      "Requirement already satisfied: jsonschema>=4.18.0 in c:\\users\\hp\\anaconda3\\envs\\tfod\\lib\\site-packages (from jupyterlab-server<3,>=2.22.1->notebook->jupyter->tensorflow-object-detection-api) (4.21.1)\n",
      "Requirement already satisfied: mdurl~=0.1 in c:\\users\\hp\\anaconda3\\envs\\tfod\\lib\\site-packages (from markdown-it-py>=2.2.0->rich>=12.0.0->twine->tensorflow-object-detection-api) (0.1.2)\n",
      "Requirement already satisfied: fastjsonschema in c:\\users\\hp\\anaconda3\\envs\\tfod\\lib\\site-packages (from nbformat>=5.7->nbconvert->jupyter->tensorflow-object-detection-api) (2.19.1)\n",
      "Requirement already satisfied: wcwidth in c:\\users\\hp\\anaconda3\\envs\\tfod\\lib\\site-packages (from prompt-toolkit>=3.0.30->jupyter-console->jupyter->tensorflow-object-detection-api) (0.2.13)\n",
      "Requirement already satisfied: soupsieve>1.2 in c:\\users\\hp\\anaconda3\\envs\\tfod\\lib\\site-packages (from beautifulsoup4->nbconvert->jupyter->tensorflow-object-detection-api) (2.5)\n",
      "Requirement already satisfied: more-itertools in c:\\users\\hp\\anaconda3\\envs\\tfod\\lib\\site-packages (from jaraco.classes->keyring>=15.1->twine->tensorflow-object-detection-api) (10.2.0)\n",
      "Requirement already satisfied: sniffio>=1.1 in c:\\users\\hp\\anaconda3\\envs\\tfod\\lib\\site-packages (from anyio>=3.1.0->jupyter-server<3,>=2.4.0->notebook->jupyter->tensorflow-object-detection-api) (1.3.1)\n",
      "Requirement already satisfied: httpcore==1.* in c:\\users\\hp\\anaconda3\\envs\\tfod\\lib\\site-packages (from httpx>=0.25.0->jupyterlab<4.2,>=4.1.1->notebook->jupyter->tensorflow-object-detection-api) (1.0.4)\n",
      "Requirement already satisfied: h11<0.15,>=0.13 in c:\\users\\hp\\anaconda3\\envs\\tfod\\lib\\site-packages (from httpcore==1.*->httpx>=0.25.0->jupyterlab<4.2,>=4.1.1->notebook->jupyter->tensorflow-object-detection-api) (0.14.0)\n",
      "Requirement already satisfied: parso<0.9.0,>=0.8.3 in c:\\users\\hp\\anaconda3\\envs\\tfod\\lib\\site-packages (from jedi>=0.16->ipython>=7.23.1->ipykernel->jupyter->tensorflow-object-detection-api) (0.8.3)\n",
      "Requirement already satisfied: attrs>=22.2.0 in c:\\users\\hp\\anaconda3\\envs\\tfod\\lib\\site-packages (from jsonschema>=4.18.0->jupyterlab-server<3,>=2.22.1->notebook->jupyter->tensorflow-object-detection-api) (23.2.0)\n",
      "Requirement already satisfied: jsonschema-specifications>=2023.03.6 in c:\\users\\hp\\anaconda3\\envs\\tfod\\lib\\site-packages (from jsonschema>=4.18.0->jupyterlab-server<3,>=2.22.1->notebook->jupyter->tensorflow-object-detection-api) (2023.12.1)\n",
      "Requirement already satisfied: referencing>=0.28.4 in c:\\users\\hp\\anaconda3\\envs\\tfod\\lib\\site-packages (from jsonschema>=4.18.0->jupyterlab-server<3,>=2.22.1->notebook->jupyter->tensorflow-object-detection-api) (0.34.0)\n",
      "Requirement already satisfied: rpds-py>=0.7.1 in c:\\users\\hp\\anaconda3\\envs\\tfod\\lib\\site-packages (from jsonschema>=4.18.0->jupyterlab-server<3,>=2.22.1->notebook->jupyter->tensorflow-object-detection-api) (0.18.0)\n",
      "Requirement already satisfied: python-json-logger>=2.0.4 in c:\\users\\hp\\anaconda3\\envs\\tfod\\lib\\site-packages (from jupyter-events>=0.9.0->jupyter-server<3,>=2.4.0->notebook->jupyter->tensorflow-object-detection-api) (2.0.7)\n",
      "Requirement already satisfied: pyyaml>=5.3 in c:\\users\\hp\\anaconda3\\envs\\tfod\\lib\\site-packages (from jupyter-events>=0.9.0->jupyter-server<3,>=2.4.0->notebook->jupyter->tensorflow-object-detection-api) (6.0.1)\n",
      "Requirement already satisfied: rfc3339-validator in c:\\users\\hp\\anaconda3\\envs\\tfod\\lib\\site-packages (from jupyter-events>=0.9.0->jupyter-server<3,>=2.4.0->notebook->jupyter->tensorflow-object-detection-api) (0.1.4)\n",
      "Requirement already satisfied: rfc3986-validator>=0.1.1 in c:\\users\\hp\\anaconda3\\envs\\tfod\\lib\\site-packages (from jupyter-events>=0.9.0->jupyter-server<3,>=2.4.0->notebook->jupyter->tensorflow-object-detection-api) (0.1.1)\n",
      "Requirement already satisfied: pyasn1<0.6.0,>=0.4.6 in c:\\users\\hp\\anaconda3\\envs\\tfod\\lib\\site-packages (from pyasn1-modules>=0.2.1->google-auth<3,>=1.6.3->tensorboard<2.11,>=2.10->tensorflow->tensorflow-object-detection-api) (0.5.1)\n",
      "Requirement already satisfied: oauthlib>=3.0.0 in c:\\users\\hp\\anaconda3\\envs\\tfod\\lib\\site-packages (from requests-oauthlib>=0.7.0->google-auth-oauthlib<0.5,>=0.4.1->tensorboard<2.11,>=2.10->tensorflow->tensorflow-object-detection-api) (3.2.2)\n",
      "Requirement already satisfied: argon2-cffi-bindings in c:\\users\\hp\\anaconda3\\envs\\tfod\\lib\\site-packages (from argon2-cffi->jupyter-server<3,>=2.4.0->notebook->jupyter->tensorflow-object-detection-api) (21.2.0)\n",
      "Requirement already satisfied: executing>=1.2.0 in c:\\users\\hp\\anaconda3\\envs\\tfod\\lib\\site-packages (from stack-data->ipython>=7.23.1->ipykernel->jupyter->tensorflow-object-detection-api) (2.0.1)\n",
      "Requirement already satisfied: asttokens>=2.1.0 in c:\\users\\hp\\anaconda3\\envs\\tfod\\lib\\site-packages (from stack-data->ipython>=7.23.1->ipykernel->jupyter->tensorflow-object-detection-api) (2.4.1)\n",
      "Requirement already satisfied: pure-eval in c:\\users\\hp\\anaconda3\\envs\\tfod\\lib\\site-packages (from stack-data->ipython>=7.23.1->ipykernel->jupyter->tensorflow-object-detection-api) (0.2.2)\n",
      "Requirement already satisfied: fqdn in c:\\users\\hp\\anaconda3\\envs\\tfod\\lib\\site-packages (from jsonschema[format-nongpl]>=4.18.0->jupyter-events>=0.9.0->jupyter-server<3,>=2.4.0->notebook->jupyter->tensorflow-object-detection-api) (1.5.1)\n",
      "Requirement already satisfied: isoduration in c:\\users\\hp\\anaconda3\\envs\\tfod\\lib\\site-packages (from jsonschema[format-nongpl]>=4.18.0->jupyter-events>=0.9.0->jupyter-server<3,>=2.4.0->notebook->jupyter->tensorflow-object-detection-api) (20.11.0)\n",
      "Requirement already satisfied: jsonpointer>1.13 in c:\\users\\hp\\anaconda3\\envs\\tfod\\lib\\site-packages (from jsonschema[format-nongpl]>=4.18.0->jupyter-events>=0.9.0->jupyter-server<3,>=2.4.0->notebook->jupyter->tensorflow-object-detection-api) (2.4)\n",
      "Requirement already satisfied: uri-template in c:\\users\\hp\\anaconda3\\envs\\tfod\\lib\\site-packages (from jsonschema[format-nongpl]>=4.18.0->jupyter-events>=0.9.0->jupyter-server<3,>=2.4.0->notebook->jupyter->tensorflow-object-detection-api) (1.3.0)\n",
      "Requirement already satisfied: webcolors>=1.11 in c:\\users\\hp\\anaconda3\\envs\\tfod\\lib\\site-packages (from jsonschema[format-nongpl]>=4.18.0->jupyter-events>=0.9.0->jupyter-server<3,>=2.4.0->notebook->jupyter->tensorflow-object-detection-api) (1.13)\n",
      "Requirement already satisfied: cffi>=1.0.1 in c:\\users\\hp\\anaconda3\\envs\\tfod\\lib\\site-packages (from argon2-cffi-bindings->argon2-cffi->jupyter-server<3,>=2.4.0->notebook->jupyter->tensorflow-object-detection-api) (1.16.0)\n",
      "Requirement already satisfied: pycparser in c:\\users\\hp\\anaconda3\\envs\\tfod\\lib\\site-packages (from cffi>=1.0.1->argon2-cffi-bindings->argon2-cffi->jupyter-server<3,>=2.4.0->notebook->jupyter->tensorflow-object-detection-api) (2.21)\n",
      "Requirement already satisfied: arrow>=0.15.0 in c:\\users\\hp\\anaconda3\\envs\\tfod\\lib\\site-packages (from isoduration->jsonschema[format-nongpl]>=4.18.0->jupyter-events>=0.9.0->jupyter-server<3,>=2.4.0->notebook->jupyter->tensorflow-object-detection-api) (1.3.0)\n",
      "Requirement already satisfied: types-python-dateutil>=2.8.10 in c:\\users\\hp\\anaconda3\\envs\\tfod\\lib\\site-packages (from arrow>=0.15.0->isoduration->jsonschema[format-nongpl]>=4.18.0->jupyter-events>=0.9.0->jupyter-server<3,>=2.4.0->notebook->jupyter->tensorflow-object-detection-api) (2.9.0.20240316)\n",
      "Note: you may need to restart the kernel to use updated packages.\n"
     ]
    }
   ],
   "source": [
    "%pip install tensorflow-object-detection-api\n"
   ]
  },
  {
   "cell_type": "code",
   "execution_count": null,
   "metadata": {},
   "outputs": [],
   "source": [
    "\n"
   ]
  },
  {
   "cell_type": "code",
   "execution_count": 9,
   "metadata": {},
   "outputs": [],
   "source": [
    "\n",
    "import sys\n",
    "sys.path.append('/path/to/tensorflow/models/research')  # Adjust the path accordingly\n"
   ]
  },
  {
   "cell_type": "markdown",
   "metadata": {},
   "source": [
    "# 2. Create TF records"
   ]
  },
  {
   "cell_type": "code",
   "execution_count": 21,
   "metadata": {},
   "outputs": [
    {
     "name": "stdout",
     "output_type": "stream",
     "text": [
      "Successfully created the TFRecord file: Tensorflow/workspace/annotations/test.record\n"
     ]
    }
   ],
   "source": [
    "!python {SCRIPTS_PATH + '/generate_tfrecord.py'} -x{IMAGE_PATH + '/test'} -l {ANNOTATION_PATH + '/label_map.pbtxt'} -o {ANNOTATION_PATH + '/test.record'}\n",
    "!python {SCRIPTS_PATH + '/generate_tfrecord.py'} -x {IMAGE_PATH + '/train'} -l {ANNOTATION_PATH + '/label_map.pbtxt'} -o {ANNOTATION_PATH + '/train.record'}"
   ]
  },
  {
   "cell_type": "markdown",
   "metadata": {},
   "source": [
    "# 3. Download TF Models Pretrained Models from Tensorflow Model Zoo"
   ]
  },
  {
   "cell_type": "code",
   "execution_count": 3,
   "metadata": {},
   "outputs": [
    {
     "name": "stderr",
     "output_type": "stream",
     "text": [
      "Cloning into 'models'...\n",
      "Updating files:  33% (1256/3696)\n",
      "Updating files:  34% (1257/3696)\n",
      "Updating files:  35% (1294/3696)\n",
      "Updating files:  36% (1331/3696)\n",
      "Updating files:  37% (1368/3696)\n",
      "Updating files:  38% (1405/3696)\n",
      "Updating files:  39% (1442/3696)\n",
      "Updating files:  40% (1479/3696)\n",
      "Updating files:  41% (1516/3696)\n",
      "Updating files:  42% (1553/3696)\n",
      "Updating files:  43% (1590/3696)\n",
      "Updating files:  44% (1627/3696)\n",
      "Updating files:  45% (1664/3696)\n",
      "Updating files:  46% (1701/3696)\n",
      "Updating files:  47% (1738/3696)\n",
      "Updating files:  48% (1775/3696)\n",
      "Updating files:  49% (1812/3696)\n",
      "Updating files:  49% (1834/3696)\n",
      "Updating files:  50% (1848/3696)\n",
      "Updating files:  51% (1885/3696)\n",
      "Updating files:  52% (1922/3696)\n",
      "Updating files:  53% (1959/3696)\n",
      "Updating files:  54% (1996/3696)\n",
      "Updating files:  55% (2033/3696)\n",
      "Updating files:  56% (2070/3696)\n",
      "Updating files:  57% (2107/3696)\n",
      "Updating files:  58% (2144/3696)\n",
      "Updating files:  59% (2181/3696)\n",
      "Updating files:  60% (2218/3696)\n",
      "Updating files:  61% (2255/3696)\n",
      "Updating files:  62% (2292/3696)\n",
      "Updating files:  63% (2329/3696)\n",
      "Updating files:  64% (2366/3696)\n",
      "Updating files:  65% (2403/3696)\n",
      "Updating files:  66% (2440/3696)\n",
      "Updating files:  67% (2477/3696)\n",
      "Updating files:  68% (2514/3696)\n",
      "Updating files:  69% (2551/3696)\n",
      "Updating files:  70% (2588/3696)\n",
      "Updating files:  71% (2625/3696)\n",
      "Updating files:  72% (2662/3696)\n",
      "Updating files:  73% (2699/3696)\n",
      "Updating files:  74% (2736/3696)\n",
      "Updating files:  75% (2772/3696)\n",
      "Updating files:  75% (2778/3696)\n",
      "Updating files:  76% (2809/3696)\n",
      "Updating files:  77% (2846/3696)\n",
      "Updating files:  78% (2883/3696)\n",
      "Updating files:  79% (2920/3696)\n",
      "Updating files:  80% (2957/3696)\n",
      "Updating files:  81% (2994/3696)\n",
      "Updating files:  82% (3031/3696)\n",
      "Updating files:  83% (3068/3696)\n",
      "Updating files:  84% (3105/3696)\n",
      "Updating files:  85% (3142/3696)\n",
      "Updating files:  86% (3179/3696)\n",
      "Updating files:  87% (3216/3696)\n",
      "Updating files:  88% (3253/3696)\n",
      "Updating files:  89% (3290/3696)\n",
      "Updating files:  90% (3327/3696)\n",
      "Updating files:  91% (3364/3696)\n",
      "Updating files:  92% (3401/3696)\n",
      "Updating files:  93% (3438/3696)\n",
      "Updating files:  94% (3475/3696)\n",
      "Updating files:  94% (3491/3696)\n",
      "Updating files:  95% (3512/3696)\n",
      "Updating files:  96% (3549/3696)\n",
      "Updating files:  97% (3586/3696)\n",
      "Updating files:  98% (3623/3696)\n",
      "Updating files:  99% (3660/3696)\n",
      "Updating files: 100% (3696/3696)\n",
      "Updating files: 100% (3696/3696), done.\n"
     ]
    }
   ],
   "source": [
    "!cd Tensorflow && git clone https://github.com/tensorflow/models"
   ]
  },
  {
   "cell_type": "code",
   "execution_count": 6,
   "metadata": {},
   "outputs": [],
   "source": [
    "#wget.download('http://download.tensorflow.org/models/object_detection/tf2/20200711/ssd_mobilenet_v2_fpnlite_320x320_coco17_tpu-8.tar.gz')\n",
    "#!mv ssd_mobilenet_v2_fpnlite_320x320_coco17_tpu-8.tar.gz {PRETRAINED_MODEL_PATH}\n",
    "#!cd {PRETRAINED_MODEL_PATH} && tar -zxvf ssd_mobilenet_v2_fpnlite_320x320_coco17_tpu-8.tar.gz"
   ]
  },
  {
   "cell_type": "markdown",
   "metadata": {},
   "source": [
    "# 4. Copy Model Config to Training Folder"
   ]
  },
  {
   "cell_type": "code",
   "execution_count": 22,
   "metadata": {},
   "outputs": [],
   "source": [
    "CUSTOM_MODEL_NAME = 'my_ssd_mobnet' "
   ]
  },
  {
   "cell_type": "code",
   "execution_count": 26,
   "metadata": {},
   "outputs": [
    {
     "data": {
      "text/plain": [
       "'Tensorflow/workspace/models/my_ssd_mobnet\\\\pipeline.config'"
      ]
     },
     "execution_count": 26,
     "metadata": {},
     "output_type": "execute_result"
    }
   ],
   "source": [
    "import shutil\n",
    "!mkdir {'Tensorflow\\workspace\\models\\\\'+CUSTOM_MODEL_NAME}\n",
    "shutil.copy(PRETRAINED_MODEL_PATH+'/ssd_mobilenet_v2_fpnlite_320x320_coco17_tpu-8/pipeline.config' ,MODEL_PATH+'/'+CUSTOM_MODEL_NAME)"
   ]
  },
  {
   "cell_type": "markdown",
   "metadata": {},
   "source": [
    "# 5. Update Config For Transfer Learning"
   ]
  },
  {
   "cell_type": "code",
   "execution_count": 27,
   "metadata": {},
   "outputs": [],
   "source": [
    "import tensorflow as tf\n",
    "from object_detection.utils import config_util\n",
    "from object_detection.protos import pipeline_pb2\n",
    "from google.protobuf import text_format"
   ]
  },
  {
   "cell_type": "code",
   "execution_count": 28,
   "metadata": {},
   "outputs": [],
   "source": [
    "CONFIG_PATH = MODEL_PATH+'/'+CUSTOM_MODEL_NAME+'/pipeline.config'"
   ]
  },
  {
   "cell_type": "code",
   "execution_count": 29,
   "metadata": {},
   "outputs": [],
   "source": [
    "config = config_util.get_configs_from_pipeline_file(CONFIG_PATH)"
   ]
  },
  {
   "cell_type": "code",
   "execution_count": 30,
   "metadata": {},
   "outputs": [
    {
     "data": {
      "text/plain": [
       "{'model': ssd {\n",
       "   num_classes: 90\n",
       "   image_resizer {\n",
       "     fixed_shape_resizer {\n",
       "       height: 320\n",
       "       width: 320\n",
       "     }\n",
       "   }\n",
       "   feature_extractor {\n",
       "     type: \"ssd_mobilenet_v2_fpn_keras\"\n",
       "     depth_multiplier: 1.0\n",
       "     min_depth: 16\n",
       "     conv_hyperparams {\n",
       "       regularizer {\n",
       "         l2_regularizer {\n",
       "           weight: 3.9999998989515007e-05\n",
       "         }\n",
       "       }\n",
       "       initializer {\n",
       "         random_normal_initializer {\n",
       "           mean: 0.0\n",
       "           stddev: 0.009999999776482582\n",
       "         }\n",
       "       }\n",
       "       activation: RELU_6\n",
       "       batch_norm {\n",
       "         decay: 0.996999979019165\n",
       "         scale: true\n",
       "         epsilon: 0.0010000000474974513\n",
       "       }\n",
       "     }\n",
       "     use_depthwise: true\n",
       "     override_base_feature_extractor_hyperparams: true\n",
       "     fpn {\n",
       "       min_level: 3\n",
       "       max_level: 7\n",
       "       additional_layer_depth: 128\n",
       "     }\n",
       "   }\n",
       "   box_coder {\n",
       "     faster_rcnn_box_coder {\n",
       "       y_scale: 10.0\n",
       "       x_scale: 10.0\n",
       "       height_scale: 5.0\n",
       "       width_scale: 5.0\n",
       "     }\n",
       "   }\n",
       "   matcher {\n",
       "     argmax_matcher {\n",
       "       matched_threshold: 0.5\n",
       "       unmatched_threshold: 0.5\n",
       "       ignore_thresholds: false\n",
       "       negatives_lower_than_unmatched: true\n",
       "       force_match_for_each_row: true\n",
       "       use_matmul_gather: true\n",
       "     }\n",
       "   }\n",
       "   similarity_calculator {\n",
       "     iou_similarity {\n",
       "     }\n",
       "   }\n",
       "   box_predictor {\n",
       "     weight_shared_convolutional_box_predictor {\n",
       "       conv_hyperparams {\n",
       "         regularizer {\n",
       "           l2_regularizer {\n",
       "             weight: 3.9999998989515007e-05\n",
       "           }\n",
       "         }\n",
       "         initializer {\n",
       "           random_normal_initializer {\n",
       "             mean: 0.0\n",
       "             stddev: 0.009999999776482582\n",
       "           }\n",
       "         }\n",
       "         activation: RELU_6\n",
       "         batch_norm {\n",
       "           decay: 0.996999979019165\n",
       "           scale: true\n",
       "           epsilon: 0.0010000000474974513\n",
       "         }\n",
       "       }\n",
       "       depth: 128\n",
       "       num_layers_before_predictor: 4\n",
       "       kernel_size: 3\n",
       "       class_prediction_bias_init: -4.599999904632568\n",
       "       share_prediction_tower: true\n",
       "       use_depthwise: true\n",
       "     }\n",
       "   }\n",
       "   anchor_generator {\n",
       "     multiscale_anchor_generator {\n",
       "       min_level: 3\n",
       "       max_level: 7\n",
       "       anchor_scale: 4.0\n",
       "       aspect_ratios: 1.0\n",
       "       aspect_ratios: 2.0\n",
       "       aspect_ratios: 0.5\n",
       "       scales_per_octave: 2\n",
       "     }\n",
       "   }\n",
       "   post_processing {\n",
       "     batch_non_max_suppression {\n",
       "       score_threshold: 9.99999993922529e-09\n",
       "       iou_threshold: 0.6000000238418579\n",
       "       max_detections_per_class: 100\n",
       "       max_total_detections: 100\n",
       "       use_static_shapes: false\n",
       "     }\n",
       "     score_converter: SIGMOID\n",
       "   }\n",
       "   normalize_loss_by_num_matches: true\n",
       "   loss {\n",
       "     localization_loss {\n",
       "       weighted_smooth_l1 {\n",
       "       }\n",
       "     }\n",
       "     classification_loss {\n",
       "       weighted_sigmoid_focal {\n",
       "         gamma: 2.0\n",
       "         alpha: 0.25\n",
       "       }\n",
       "     }\n",
       "     classification_weight: 1.0\n",
       "     localization_weight: 1.0\n",
       "   }\n",
       "   encode_background_as_zeros: true\n",
       "   normalize_loc_loss_by_codesize: true\n",
       "   inplace_batchnorm_update: true\n",
       "   freeze_batchnorm: false\n",
       " },\n",
       " 'train_config': batch_size: 128\n",
       " data_augmentation_options {\n",
       "   random_horizontal_flip {\n",
       "   }\n",
       " }\n",
       " data_augmentation_options {\n",
       "   random_crop_image {\n",
       "     min_object_covered: 0.0\n",
       "     min_aspect_ratio: 0.75\n",
       "     max_aspect_ratio: 3.0\n",
       "     min_area: 0.75\n",
       "     max_area: 1.0\n",
       "     overlap_thresh: 0.0\n",
       "   }\n",
       " }\n",
       " sync_replicas: true\n",
       " optimizer {\n",
       "   momentum_optimizer {\n",
       "     learning_rate {\n",
       "       cosine_decay_learning_rate {\n",
       "         learning_rate_base: 0.07999999821186066\n",
       "         total_steps: 50000\n",
       "         warmup_learning_rate: 0.026666000485420227\n",
       "         warmup_steps: 1000\n",
       "       }\n",
       "     }\n",
       "     momentum_optimizer_value: 0.8999999761581421\n",
       "   }\n",
       "   use_moving_average: false\n",
       " }\n",
       " fine_tune_checkpoint: \"PATH_TO_BE_CONFIGURED\"\n",
       " num_steps: 50000\n",
       " startup_delay_steps: 0.0\n",
       " replicas_to_aggregate: 8\n",
       " max_number_of_boxes: 100\n",
       " unpad_groundtruth_tensors: false\n",
       " fine_tune_checkpoint_type: \"classification\"\n",
       " fine_tune_checkpoint_version: V2,\n",
       " 'train_input_config': label_map_path: \"PATH_TO_BE_CONFIGURED\"\n",
       " tf_record_input_reader {\n",
       "   input_path: \"PATH_TO_BE_CONFIGURED\"\n",
       " },\n",
       " 'eval_config': metrics_set: \"coco_detection_metrics\"\n",
       " use_moving_averages: false,\n",
       " 'eval_input_configs': [label_map_path: \"PATH_TO_BE_CONFIGURED\"\n",
       " shuffle: false\n",
       " num_epochs: 1\n",
       " tf_record_input_reader {\n",
       "   input_path: \"PATH_TO_BE_CONFIGURED\"\n",
       " }\n",
       " ],\n",
       " 'eval_input_config': label_map_path: \"PATH_TO_BE_CONFIGURED\"\n",
       " shuffle: false\n",
       " num_epochs: 1\n",
       " tf_record_input_reader {\n",
       "   input_path: \"PATH_TO_BE_CONFIGURED\"\n",
       " }}"
      ]
     },
     "execution_count": 30,
     "metadata": {},
     "output_type": "execute_result"
    }
   ],
   "source": [
    "config"
   ]
  },
  {
   "cell_type": "code",
   "execution_count": 31,
   "metadata": {},
   "outputs": [],
   "source": [
    "pipeline_config = pipeline_pb2.TrainEvalPipelineConfig()\n",
    "with tf.io.gfile.GFile(CONFIG_PATH, \"r\") as f:                                                                                                                                                                                                                     \n",
    "    proto_str = f.read()                                                                                                                                                                                                                                          \n",
    "    text_format.Merge(proto_str, pipeline_config)  "
   ]
  },
  {
   "cell_type": "code",
   "execution_count": 32,
   "metadata": {},
   "outputs": [],
   "source": [
    "pipeline_config.model.ssd.num_classes = 6\n",
    "pipeline_config.train_config.batch_size = 4\n",
    "pipeline_config.train_config.fine_tune_checkpoint = PRETRAINED_MODEL_PATH+'/ssd_mobilenet_v2_fpnlite_320x320_coco17_tpu-8/checkpoint/ckpt-0'\n",
    "pipeline_config.train_config.fine_tune_checkpoint_type = \"detection\"\n",
    "pipeline_config.train_input_reader.label_map_path= ANNOTATION_PATH + '/label_map.pbtxt'\n",
    "pipeline_config.train_input_reader.tf_record_input_reader.input_path[:] = [ANNOTATION_PATH + '/train.record']\n",
    "pipeline_config.eval_input_reader[0].label_map_path = ANNOTATION_PATH + '/label_map.pbtxt'\n",
    "pipeline_config.eval_input_reader[0].tf_record_input_reader.input_path[:] = [ANNOTATION_PATH + '/test.record']"
   ]
  },
  {
   "cell_type": "code",
   "execution_count": 33,
   "metadata": {},
   "outputs": [],
   "source": [
    "config_text = text_format.MessageToString(pipeline_config)                                                                                                                                                                                                        \n",
    "with tf.io.gfile.GFile(CONFIG_PATH, \"wb\") as f:                                                                                                                                                                                                                     \n",
    "    f.write(config_text)   "
   ]
  },
  {
   "cell_type": "markdown",
   "metadata": {},
   "source": [
    "# 6. Train the model"
   ]
  },
  {
   "cell_type": "code",
   "execution_count": 34,
   "metadata": {},
   "outputs": [
    {
     "name": "stdout",
     "output_type": "stream",
     "text": [
      "python Tensorflow/models/research/object_detection/model_main_tf2.py --model_dir=Tensorflow/workspace/models/my_ssd_mobnet --pipeline_config_path=Tensorflow/workspace/models/my_ssd_mobnet/pipeline.config --num_train_steps=10000\n"
     ]
    }
   ],
   "source": [
    "print(\"\"\"python {}/research/object_detection/model_main_tf2.py --model_dir={}/{} --pipeline_config_path={}/{}/pipeline.config --num_train_steps=10000\"\"\".format(APIMODEL_PATH, MODEL_PATH,CUSTOM_MODEL_NAME,MODEL_PATH,CUSTOM_MODEL_NAME))"
   ]
  },
  {
   "cell_type": "markdown",
   "metadata": {},
   "source": [
    "# 7. Load Train Model From Checkpoint"
   ]
  },
  {
   "cell_type": "code",
   "execution_count": 35,
   "metadata": {},
   "outputs": [],
   "source": [
    "import os\n",
    "from object_detection.utils import label_map_util\n",
    "from object_detection.utils import visualization_utils as viz_utils\n",
    "from object_detection.builders import model_builder"
   ]
  },
  {
   "cell_type": "code",
   "execution_count": 36,
   "metadata": {},
   "outputs": [],
   "source": [
    "# Load pipeline config and build a detection model\n",
    "configs = config_util.get_configs_from_pipeline_file(CONFIG_PATH)\n",
    "detection_model = model_builder.build(model_config=configs['model'], is_training=False)\n",
    "\n",
    "# Restore checkpoint\n",
    "ckpt = tf.compat.v2.train.Checkpoint(model=detection_model)\n",
    "ckpt.restore(os.path.join(CHECKPOINT_PATH, 'ckpt-11')).expect_partial()\n",
    "\n",
    "@tf.function\n",
    "def detect_fn(image):\n",
    "    image, shapes = detection_model.preprocess(image)\n",
    "    prediction_dict = detection_model.predict(image, shapes)\n",
    "    detections = detection_model.postprocess(prediction_dict, shapes)\n",
    "    return detections"
   ]
  },
  {
   "cell_type": "markdown",
   "metadata": {},
   "source": [
    "# 8. Detect in Real-Time"
   ]
  },
  {
   "cell_type": "code",
   "execution_count": 37,
   "metadata": {},
   "outputs": [],
   "source": [
    "import cv2 \n",
    "import numpy as np"
   ]
  },
  {
   "cell_type": "code",
   "execution_count": 38,
   "metadata": {},
   "outputs": [],
   "source": [
    "category_index = label_map_util.create_category_index_from_labelmap(ANNOTATION_PATH+'/label_map.pbtxt')"
   ]
  },
  {
   "cell_type": "code",
   "execution_count": 105,
   "metadata": {},
   "outputs": [],
   "source": [
    "cap.release()"
   ]
  },
  {
   "cell_type": "code",
   "execution_count": 39,
   "metadata": {},
   "outputs": [],
   "source": [
    "# Setup capture\n",
    "cap = cv2.VideoCapture(0)\n",
    "width = int(cap.get(cv2.CAP_PROP_FRAME_WIDTH))\n",
    "height = int(cap.get(cv2.CAP_PROP_FRAME_HEIGHT))"
   ]
  },
  {
   "cell_type": "code",
   "execution_count": 40,
   "metadata": {},
   "outputs": [
    {
     "ename": "KeyboardInterrupt",
     "evalue": "",
     "output_type": "error",
     "traceback": [
      "\u001b[1;31m---------------------------------------------------------------------------\u001b[0m",
      "\u001b[1;31mKeyboardInterrupt\u001b[0m                         Traceback (most recent call last)",
      "Cell \u001b[1;32mIn[40], line 2\u001b[0m\n\u001b[0;32m      1\u001b[0m \u001b[38;5;28;01mwhile\u001b[39;00m \u001b[38;5;28;01mTrue\u001b[39;00m: \n\u001b[1;32m----> 2\u001b[0m     ret, frame \u001b[38;5;241m=\u001b[39m \u001b[43mcap\u001b[49m\u001b[38;5;241;43m.\u001b[39;49m\u001b[43mread\u001b[49m\u001b[43m(\u001b[49m\u001b[43m)\u001b[49m\n\u001b[0;32m      3\u001b[0m     image_np \u001b[38;5;241m=\u001b[39m np\u001b[38;5;241m.\u001b[39marray(frame)\n\u001b[0;32m      5\u001b[0m     input_tensor \u001b[38;5;241m=\u001b[39m tf\u001b[38;5;241m.\u001b[39mconvert_to_tensor(np\u001b[38;5;241m.\u001b[39mexpand_dims(image_np, \u001b[38;5;241m0\u001b[39m), dtype\u001b[38;5;241m=\u001b[39mtf\u001b[38;5;241m.\u001b[39mfloat32)\n",
      "\u001b[1;31mKeyboardInterrupt\u001b[0m: "
     ]
    }
   ],
   "source": [
    "while True: \n",
    "    ret, frame = cap.read()\n",
    "    image_np = np.array(frame)\n",
    "    \n",
    "    input_tensor = tf.convert_to_tensor(np.expand_dims(image_np, 0), dtype=tf.float32)\n",
    "    detections = detect_fn(input_tensor)\n",
    "    \n",
    "    num_detections = int(detections.pop('num_detections'))\n",
    "    detections = {key: value[0, :num_detections].numpy()\n",
    "                  for key, value in detections.items()}\n",
    "    detections['num_detections'] = num_detections\n",
    "\n",
    "    # detection_classes should be ints.\n",
    "    detections['detection_classes'] = detections['detection_classes'].astype(np.int64)\n",
    "\n",
    "    label_id_offset = 1\n",
    "    image_np_with_detections = image_np.copy()\n",
    "\n",
    "    viz_utils.visualize_boxes_and_labels_on_image_array(\n",
    "                image_np_with_detections,\n",
    "                detections['detection_boxes'],\n",
    "                detections['detection_classes']+label_id_offset,\n",
    "                detections['detection_scores'],\n",
    "                category_index,\n",
    "                use_normalized_coordinates=True,\n",
    "                max_boxes_to_draw=5,\n",
    "                min_score_thresh=.5,\n",
    "                agnostic_mode=False)\n",
    "\n",
    "    cv2.imshow('object detection',  cv2.resize(image_np_with_detections, (800, 600)))\n",
    "    \n",
    "    if cv2.waitKey(1) & 0xFF == ord('q'):\n",
    "        cap.release()\n",
    "        break"
   ]
  },
  {
   "cell_type": "code",
   "execution_count": 42,
   "metadata": {},
   "outputs": [],
   "source": [
    "detections = detect_fn(input_tensor)"
   ]
  },
  {
   "cell_type": "code",
   "execution_count": null,
   "metadata": {},
   "outputs": [],
   "source": [
    "from matplotlib import pyplot as plt dd"
   ]
  },
  {
   "cell_type": "code",
   "execution_count": null,
   "metadata": {},
   "outputs": [],
   "source": []
  }
 ],
 "metadata": {
  "kernelspec": {
   "display_name": "tfod",
   "language": "python",
   "name": "tfod"
  },
  "language_info": {
   "codemirror_mode": {
    "name": "ipython",
    "version": 3
   },
   "file_extension": ".py",
   "mimetype": "text/x-python",
   "name": "python",
   "nbconvert_exporter": "python",
   "pygments_lexer": "ipython3",
   "version": "3.9.18"
  }
 },
 "nbformat": 4,
 "nbformat_minor": 4
}
